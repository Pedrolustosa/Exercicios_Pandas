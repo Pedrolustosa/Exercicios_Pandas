{
  "cells": [
    {
      "cell_type": "markdown",
      "metadata": {
        "id": "view-in-github",
        "colab_type": "text"
      },
      "source": [
        "<a href=\"https://colab.research.google.com/github/Pedrolustosa/Exercicios_Pandas/blob/main/Exercicios_Pandas.ipynb\" target=\"_parent\"><img src=\"https://colab.research.google.com/assets/colab-badge.svg\" alt=\"Open In Colab\"/></a>"
      ]
    },
    {
      "cell_type": "markdown",
      "metadata": {
        "id": "AeBGPBkxdHJ6"
      },
      "source": [
        "## Pandas"
      ]
    },
    {
      "cell_type": "markdown",
      "metadata": {
        "id": "Z7UScd3ofS8k"
      },
      "source": [
        "### Instalação do Pandas"
      ]
    },
    {
      "cell_type": "code",
      "execution_count": 1,
      "metadata": {
        "colab": {
          "base_uri": "https://localhost:8080/"
        },
        "id": "-_bng8fefWVJ",
        "outputId": "2e2b800c-a185-4d31-b917-0f212e10e1ef"
      },
      "outputs": [
        {
          "output_type": "stream",
          "name": "stdout",
          "text": [
            "Requirement already satisfied: pandas in /usr/local/lib/python3.10/dist-packages (2.0.3)\n",
            "Requirement already satisfied: python-dateutil>=2.8.2 in /usr/local/lib/python3.10/dist-packages (from pandas) (2.8.2)\n",
            "Requirement already satisfied: pytz>=2020.1 in /usr/local/lib/python3.10/dist-packages (from pandas) (2023.4)\n",
            "Requirement already satisfied: tzdata>=2022.1 in /usr/local/lib/python3.10/dist-packages (from pandas) (2024.1)\n",
            "Requirement already satisfied: numpy>=1.21.0 in /usr/local/lib/python3.10/dist-packages (from pandas) (1.25.2)\n",
            "Requirement already satisfied: six>=1.5 in /usr/local/lib/python3.10/dist-packages (from python-dateutil>=2.8.2->pandas) (1.16.0)\n"
          ]
        }
      ],
      "source": [
        "!pip install pandas"
      ]
    },
    {
      "cell_type": "markdown",
      "metadata": {
        "id": "xRrsSzVezUhj"
      },
      "source": [
        "### Introduzindo Séries de Dados do Pandas"
      ]
    },
    {
      "cell_type": "markdown",
      "metadata": {
        "id": "VDK_Ly29gals"
      },
      "source": [
        "1 - Importe as bibliotecas pandas e numpy com os aliases 'pd' e 'np', respectivamente."
      ]
    },
    {
      "cell_type": "code",
      "execution_count": 3,
      "metadata": {
        "id": "_M2QbWdPgauN"
      },
      "outputs": [],
      "source": [
        "import pandas as pd\n",
        "import numpy as np\n"
      ]
    },
    {
      "cell_type": "markdown",
      "metadata": {
        "id": "LdbbLUK7fm7o"
      },
      "source": [
        "2 - Utilize o numpy para criar um array com 10 elementos de números inteiros aleatórios entre 50 e 100. Em seguida, transforme-o em uma série do pandas e a exiba."
      ]
    },
    {
      "cell_type": "code",
      "execution_count": 4,
      "metadata": {
        "colab": {
          "base_uri": "https://localhost:8080/"
        },
        "id": "wFiHFFelfnCZ",
        "outputId": "61108142-bbae-47b9-eebf-52376c59d5b7"
      },
      "outputs": [
        {
          "output_type": "stream",
          "name": "stdout",
          "text": [
            "0    93\n",
            "1    58\n",
            "2    89\n",
            "3    67\n",
            "4    56\n",
            "5    83\n",
            "6    62\n",
            "7    61\n",
            "8    76\n",
            "9    61\n",
            "dtype: int64\n"
          ]
        }
      ],
      "source": [
        "array_aleatorio = np.random.randint(50, 101, size=10)\n",
        "serie = pd.Series(array_aleatorio)\n",
        "print(serie)"
      ]
    },
    {
      "cell_type": "markdown",
      "metadata": {
        "id": "5SxiYJirsY-X"
      },
      "source": [
        "3 - Utilize a função range do Python para criar uma série do Pandas contendo 10 elementos cujos índices sejam uma sequência ascendente de números ímpares  e os valores sejam uma sequência descendente de números inteiros de 10 a 1. Em seguida, converta o tipo numérico da série criada para 'int32' e exiba a série."
      ]
    },
    {
      "cell_type": "code",
      "execution_count": 5,
      "metadata": {
        "colab": {
          "base_uri": "https://localhost:8080/"
        },
        "id": "DunzR3rBsZHY",
        "outputId": "2f718d68-88b0-499d-990c-2041f33b2eee"
      },
      "outputs": [
        {
          "output_type": "stream",
          "name": "stdout",
          "text": [
            "1     10\n",
            "3      9\n",
            "5      8\n",
            "7      7\n",
            "9      6\n",
            "11     5\n",
            "13     4\n",
            "15     3\n",
            "17     2\n",
            "19     1\n",
            "dtype: int32\n"
          ]
        }
      ],
      "source": [
        "indices = list(range(1, 20, 2))\n",
        "valores = list(range(10, 0, -1))\n",
        "serie = pd.Series(valores, index=indices)\n",
        "serie = serie.astype('int32')\n",
        "print(serie)"
      ]
    },
    {
      "cell_type": "markdown",
      "metadata": {
        "id": "Y3VEvHJ-zZBb"
      },
      "source": [
        "4 - Abaixo são definidos dois dicionários contendo capitais brasileiras com a população estimada para os anos de 2000 e 2018. Utilize ambos os dicionários definidos abaixos para criar dois objetos do tipo Series."
      ]
    },
    {
      "cell_type": "code",
      "execution_count": 7,
      "metadata": {
        "colab": {
          "base_uri": "https://localhost:8080/"
        },
        "id": "9fbQCt3azUoD",
        "outputId": "7fc2dbb5-d852-4021-eab8-39700212d514"
      },
      "outputs": [
        {
          "output_type": "stream",
          "name": "stdout",
          "text": [
            "População em 2000:\n",
            "São Paulo         10405867\n",
            "Rio de Janeiro     5851914\n",
            "Salvador           2440828\n",
            "Belo Horizonte     2232747\n",
            "Fortaleza          2138234\n",
            "dtype: int64\n",
            "\n",
            "População em 2018:\n",
            "São Paulo         12176866\n",
            "Rio de Janeiro     6688927\n",
            "Brasília           2974703\n",
            "Salvador           2857329\n",
            "Fortaleza          2643247\n",
            "dtype: int64\n"
          ]
        }
      ],
      "source": [
        "populacao2000 = {'São Paulo': 10405867, 'Rio de Janeiro': 5851914, 'Salvador': 2440828, 'Belo Horizonte':2232747, 'Fortaleza':2138234\t}\n",
        "populacao2018 = {'São Paulo': 12176866, 'Rio de Janeiro': 6688927, 'Brasília': 2974703, 'Salvador': 2857329, 'Fortaleza': 2643247}\n",
        "\n",
        "serie_2000 = pd.Series(populacao2000)\n",
        "serie_2018 = pd.Series(populacao2018)\n",
        "\n",
        "print(\"População em 2000:\")\n",
        "print(serie_2000)\n",
        "print(\"\\nPopulação em 2018:\")\n",
        "print(serie_2018)"
      ]
    },
    {
      "cell_type": "markdown",
      "metadata": {
        "id": "Au1q_EAezSRI"
      },
      "source": [
        "#### Operações Aritméticas com Séries"
      ]
    },
    {
      "cell_type": "markdown",
      "metadata": {
        "id": "4Lbr0016g9SQ"
      },
      "source": [
        "5 - Crie uma nova série contendo a diferença entre as populações de 2018 e 2010."
      ]
    },
    {
      "cell_type": "code",
      "execution_count": 8,
      "metadata": {
        "colab": {
          "base_uri": "https://localhost:8080/"
        },
        "id": "LbKoEIRAg9ZL",
        "outputId": "4b37490a-149e-4497-d858-d5f04a9cdde5"
      },
      "outputs": [
        {
          "output_type": "stream",
          "name": "stdout",
          "text": [
            "Diferença de população entre 2018 e 2000:\n",
            "Belo Horizonte          NaN\n",
            "Brasília                NaN\n",
            "Fortaleza          505013.0\n",
            "Rio de Janeiro     837013.0\n",
            "Salvador           416501.0\n",
            "São Paulo         1770999.0\n",
            "dtype: float64\n"
          ]
        }
      ],
      "source": [
        "serie_2000 = pd.Series(populacao2000)\n",
        "serie_2018 = pd.Series(populacao2018)\n",
        "diferenca_populacao = serie_2018 - serie_2000\n",
        "print(\"Diferença de população entre 2018 e 2000:\")\n",
        "print(diferenca_populacao)"
      ]
    },
    {
      "cell_type": "markdown",
      "metadata": {
        "id": "JK6NbPy_zQYM"
      },
      "source": [
        "6 - Crie uma nova série contendo a média entre as duas séries iniciais."
      ]
    },
    {
      "cell_type": "code",
      "execution_count": 9,
      "metadata": {
        "colab": {
          "base_uri": "https://localhost:8080/"
        },
        "id": "jVN_W1bduy0M",
        "outputId": "102f1dd7-5cb3-4a07-95b7-8ca65b636f96"
      },
      "outputs": [
        {
          "output_type": "stream",
          "name": "stdout",
          "text": [
            "Média de população entre 2000 e 2018:\n",
            "Belo Horizonte           NaN\n",
            "Brasília                 NaN\n",
            "Fortaleza          2390740.5\n",
            "Rio de Janeiro     6270420.5\n",
            "Salvador           2649078.5\n",
            "São Paulo         11291366.5\n",
            "dtype: float64\n"
          ]
        }
      ],
      "source": [
        "serie_2000 = pd.Series(populacao2000)\n",
        "serie_2018 = pd.Series(populacao2018)\n",
        "media_populacao = (serie_2000 + serie_2018) / 2\n",
        "print(\"Média de população entre 2000 e 2018:\")\n",
        "print(media_populacao)"
      ]
    },
    {
      "cell_type": "markdown",
      "metadata": {
        "id": "C8-PDmX91LpE"
      },
      "source": [
        "### Introduzindo Dataframes"
      ]
    },
    {
      "cell_type": "markdown",
      "metadata": {
        "id": "XpDXbeFY3e8R"
      },
      "source": [
        "7 - Crie um dicionário cujas chaves sejam: 2000, 2018, 'diferenca', 'media'. Utilize como valores as séries correspondentes criadas nas questões anteriores. Utilize esse dicionário para criar um dataframe."
      ]
    },
    {
      "cell_type": "code",
      "execution_count": 10,
      "metadata": {
        "colab": {
          "base_uri": "https://localhost:8080/"
        },
        "id": "BBGcpyt83ftD",
        "outputId": "cf45f618-448d-47b6-ec11-3b4c07438f51"
      },
      "outputs": [
        {
          "output_type": "stream",
          "name": "stdout",
          "text": [
            "DataFrame com as populações, diferença e média:\n",
            "                populacao2000  populacao2018  diferenca       media\n",
            "Belo Horizonte      2232747.0            NaN        NaN         NaN\n",
            "Brasília                  NaN      2974703.0        NaN         NaN\n",
            "Fortaleza           2138234.0      2643247.0   505013.0   2390740.5\n",
            "Rio de Janeiro      5851914.0      6688927.0   837013.0   6270420.5\n",
            "Salvador            2440828.0      2857329.0   416501.0   2649078.5\n",
            "São Paulo          10405867.0     12176866.0  1770999.0  11291366.5\n"
          ]
        }
      ],
      "source": [
        "populacao2000_series = pd.Series(populacao2000)\n",
        "populacao2018_series = pd.Series(populacao2018)\n",
        "diferenca_series = populacao2018_series - populacao2000_series\n",
        "media_series = (populacao2000_series + populacao2018_series) / 2\n",
        "dados = {\n",
        "    'populacao2000': populacao2000_series,\n",
        "    'populacao2018': populacao2018_series,\n",
        "    'diferenca': diferenca_series,\n",
        "    'media': media_series\n",
        "}\n",
        "df = pd.DataFrame(dados)\n",
        "print(\"DataFrame com as populações, diferença e média:\")\n",
        "print(df)"
      ]
    },
    {
      "cell_type": "markdown",
      "metadata": {
        "id": "Ypf2B_IMXCBp"
      },
      "source": [
        "8 - Desta vez, crie um dataframe equivalente ao criado na questão anterior concatenando as quatro séries (referentes a 2000, 2018, diferença e média). Lembre-se de inserir os mesmos títulos para as colunas."
      ]
    },
    {
      "cell_type": "code",
      "execution_count": 11,
      "metadata": {
        "colab": {
          "base_uri": "https://localhost:8080/"
        },
        "id": "CnsXCKTIXCPK",
        "outputId": "7e4d81ff-021d-46f4-c8bb-a5b9e8006285"
      },
      "outputs": [
        {
          "output_type": "stream",
          "name": "stdout",
          "text": [
            "DataFrame concatenado com as populações, diferença e média:\n",
            "                populacao2000  populacao2018  diferenca       media\n",
            "São Paulo          10405867.0     12176866.0  1770999.0  11291366.5\n",
            "Rio de Janeiro      5851914.0      6688927.0   837013.0   6270420.5\n",
            "Salvador            2440828.0      2857329.0   416501.0   2649078.5\n",
            "Belo Horizonte      2232747.0            NaN        NaN         NaN\n",
            "Fortaleza           2138234.0      2643247.0   505013.0   2390740.5\n",
            "Brasília                  NaN      2974703.0        NaN         NaN\n"
          ]
        }
      ],
      "source": [
        "populacao2000_series = pd.Series(populacao2000, name='populacao2000')\n",
        "populacao2018_series = pd.Series(populacao2018, name='populacao2018')\n",
        "diferenca_series = populacao2018_series - populacao2000_series\n",
        "diferenca_series.name = 'diferenca'\n",
        "media_series = (populacao2000_series + populacao2018_series) / 2\n",
        "media_series.name = 'media'\n",
        "df = pd.concat([populacao2000_series, populacao2018_series, diferenca_series, media_series], axis=1)\n",
        "print(\"DataFrame concatenado com as populações, diferença e média:\")\n",
        "print(df)"
      ]
    },
    {
      "cell_type": "markdown",
      "metadata": {
        "id": "Fb0mFiAWA3pa"
      },
      "source": [
        "9 - Adicione uma nova coluna ao dataframe anterior chamada 2019, esta deve conter um acréscimo de 50000 sobre os valores da coluna 2018."
      ]
    },
    {
      "cell_type": "code",
      "execution_count": 14,
      "metadata": {
        "colab": {
          "base_uri": "https://localhost:8080/"
        },
        "id": "jPwiPongA3xO",
        "outputId": "5f6b68a5-ae71-43b9-838f-3ada636eef26"
      },
      "outputs": [
        {
          "output_type": "stream",
          "name": "stdout",
          "text": [
            "DataFrame com as populações, diferença, média e coluna 2019:\n",
            "                populacao2000  populacao2018  diferenca       media  \\\n",
            "São Paulo          10405867.0     12176866.0  1770999.0  11291366.5   \n",
            "Rio de Janeiro      5851914.0      6688927.0   837013.0   6270420.5   \n",
            "Salvador            2440828.0      2857329.0   416501.0   2649078.5   \n",
            "Belo Horizonte      2232747.0            NaN        NaN         NaN   \n",
            "Fortaleza           2138234.0      2643247.0   505013.0   2390740.5   \n",
            "Brasília                  NaN      2974703.0        NaN         NaN   \n",
            "\n",
            "                      2019  \n",
            "São Paulo       12226866.0  \n",
            "Rio de Janeiro   6738927.0  \n",
            "Salvador         2907329.0  \n",
            "Belo Horizonte         NaN  \n",
            "Fortaleza        2693247.0  \n",
            "Brasília         3024703.0  \n"
          ]
        }
      ],
      "source": [
        "df['2019'] = df['populacao2018'] + 50000\n",
        "print(\"DataFrame com as populações, diferença, média e coluna 2019:\")\n",
        "print(df)"
      ]
    },
    {
      "cell_type": "markdown",
      "metadata": {
        "id": "BCB_sBTKacwr"
      },
      "source": [
        "10 - Exiba somente os dados referentes a Salvador."
      ]
    },
    {
      "cell_type": "code",
      "execution_count": 15,
      "metadata": {
        "colab": {
          "base_uri": "https://localhost:8080/"
        },
        "id": "Hnax97HBac7y",
        "outputId": "b71b7e60-6240-47f1-d0fa-1aa8ed490350"
      },
      "outputs": [
        {
          "output_type": "stream",
          "name": "stdout",
          "text": [
            "Dados referentes a Salvador:\n",
            "populacao2000    2440828.0\n",
            "populacao2018    2857329.0\n",
            "diferenca         416501.0\n",
            "media            2649078.5\n",
            "2019             2907329.0\n",
            "Name: Salvador, dtype: float64\n"
          ]
        }
      ],
      "source": [
        "dados_salvador = df.loc['Salvador']\n",
        "print(\"Dados referentes a Salvador:\")\n",
        "print(dados_salvador)"
      ]
    },
    {
      "cell_type": "markdown",
      "metadata": {
        "id": "hG4JP1_ZpIxL"
      },
      "source": [
        "11 - Exiba ** a terceira linha** do dataframe utilizando o seu posicionamento no dataframe."
      ]
    },
    {
      "cell_type": "code",
      "execution_count": 16,
      "metadata": {
        "colab": {
          "base_uri": "https://localhost:8080/"
        },
        "id": "voAWVOg3pJBG",
        "outputId": "835f0907-a84e-4715-b356-247e0b714c7d"
      },
      "outputs": [
        {
          "output_type": "stream",
          "name": "stdout",
          "text": [
            "Terceira linha do DataFrame (posicionamento numérico):\n",
            "populacao2000    2440828.0\n",
            "populacao2018    2857329.0\n",
            "diferenca         416501.0\n",
            "media            2649078.5\n",
            "2019             2907329.0\n",
            "Name: Salvador, dtype: float64\n"
          ]
        }
      ],
      "source": [
        "terceira_linha = df.iloc[2]\n",
        "print(\"Terceira linha do DataFrame (posicionamento numérico):\")\n",
        "print(terceira_linha)"
      ]
    },
    {
      "cell_type": "markdown",
      "metadata": {
        "id": "wZ-8j5YHZENp"
      },
      "source": [
        "12 - Exiba as **três primeiras linhas** do dataframe a partir da posição."
      ]
    },
    {
      "cell_type": "code",
      "execution_count": 17,
      "metadata": {
        "colab": {
          "base_uri": "https://localhost:8080/"
        },
        "id": "D7E2hQ52ZEUu",
        "outputId": "149733ef-e963-43d7-be78-af35c120a4c2"
      },
      "outputs": [
        {
          "output_type": "stream",
          "name": "stdout",
          "text": [
            "Três primeiras linhas do DataFrame a partir da posição:\n",
            "                populacao2000  populacao2018  diferenca       media  \\\n",
            "São Paulo          10405867.0     12176866.0  1770999.0  11291366.5   \n",
            "Rio de Janeiro      5851914.0      6688927.0   837013.0   6270420.5   \n",
            "Salvador            2440828.0      2857329.0   416501.0   2649078.5   \n",
            "\n",
            "                      2019  \n",
            "São Paulo       12226866.0  \n",
            "Rio de Janeiro   6738927.0  \n",
            "Salvador         2907329.0  \n"
          ]
        }
      ],
      "source": [
        "tres_primeiras_linhas = df.iloc[:3]\n",
        "print(\"Três primeiras linhas do DataFrame a partir da posição:\")\n",
        "print(tres_primeiras_linhas)"
      ]
    },
    {
      "cell_type": "markdown",
      "metadata": {
        "id": "MguA1q5BbG4C"
      },
      "source": [
        "13 - Remova a coluna 2019 criada anteriormente."
      ]
    },
    {
      "cell_type": "code",
      "execution_count": 18,
      "metadata": {
        "colab": {
          "base_uri": "https://localhost:8080/"
        },
        "id": "GX96UlEKbG-1",
        "outputId": "c5614c95-c815-4edc-eb67-1bdadc9280d7"
      },
      "outputs": [
        {
          "output_type": "stream",
          "name": "stdout",
          "text": [
            "                populacao2000  populacao2018  diferenca       media\n",
            "São Paulo          10405867.0     12176866.0  1770999.0  11291366.5\n",
            "Rio de Janeiro      5851914.0      6688927.0   837013.0   6270420.5\n",
            "Salvador            2440828.0      2857329.0   416501.0   2649078.5\n",
            "Belo Horizonte      2232747.0            NaN        NaN         NaN\n",
            "Fortaleza           2138234.0      2643247.0   505013.0   2390740.5\n",
            "Brasília                  NaN      2974703.0        NaN         NaN\n"
          ]
        }
      ],
      "source": [
        "df = df.drop(columns=['2019'])\n",
        "print(df)"
      ]
    },
    {
      "cell_type": "markdown",
      "metadata": {
        "id": "Gf1KCDk7cHQG"
      },
      "source": [
        "14 - Remova os registros que apresentam valores nulos."
      ]
    },
    {
      "cell_type": "code",
      "execution_count": 19,
      "metadata": {
        "colab": {
          "base_uri": "https://localhost:8080/"
        },
        "id": "t7GfFUtDcHWz",
        "outputId": "c52ed090-2ade-43c3-e09b-2e6fe2c2a1f3"
      },
      "outputs": [
        {
          "output_type": "stream",
          "name": "stdout",
          "text": [
            "                populacao2000  populacao2018  diferenca       media\n",
            "São Paulo          10405867.0     12176866.0  1770999.0  11291366.5\n",
            "Rio de Janeiro      5851914.0      6688927.0   837013.0   6270420.5\n",
            "Salvador            2440828.0      2857329.0   416501.0   2649078.5\n",
            "Fortaleza           2138234.0      2643247.0   505013.0   2390740.5\n"
          ]
        }
      ],
      "source": [
        "df = df.dropna()\n",
        "print(df)"
      ]
    },
    {
      "cell_type": "markdown",
      "metadata": {
        "id": "vvg70YllmjYN"
      },
      "source": [
        "### Exercícios com base de dados fictícia (toy dataset)"
      ]
    },
    {
      "cell_type": "markdown",
      "metadata": {
        "id": "WxSVpF1fP3Wm"
      },
      "source": [
        "Execute o bloco de código abaixo para realizar o download de uma pequena base de dados que será utilizada para os próximos experimentos. A base de dados poderá ser acessada através do arquivo toy_dataset.csv. Caso a sessão se encerre, re-execute essa célula de código."
      ]
    },
    {
      "cell_type": "code",
      "execution_count": 20,
      "metadata": {
        "colab": {
          "base_uri": "https://localhost:8080/"
        },
        "id": "l3bKq4SBP3cx",
        "outputId": "1ed5a286-763a-4e6a-e97f-8159775bace8"
      },
      "outputs": [
        {
          "output_type": "stream",
          "name": "stdout",
          "text": [
            "Dataset URL: https://www.kaggle.com/datasets/carlolepelaars/toy-dataset\n",
            "License(s): CC0-1.0\n",
            "Downloading toy-dataset.zip to /content\n",
            "  0% 0.00/1.13M [00:00<?, ?B/s]\n",
            "100% 1.13M/1.13M [00:00<00:00, 53.3MB/s]\n",
            "Archive:  toy-dataset.zip\n",
            "  inflating: toy_dataset.csv         \n"
          ]
        }
      ],
      "source": [
        "!pip install -q kaggle\n",
        "import os\n",
        "os.environ['KAGGLE_USERNAME'] = \"victorlundgren\"\n",
        "os.environ['KAGGLE_KEY'] = \"851b67a8b7e626eb6336620bf1cb0d31\"\n",
        "\n",
        "!kaggle datasets download -d carlolepelaars/toy-dataset\n",
        "!unzip toy-dataset.zip"
      ]
    },
    {
      "cell_type": "markdown",
      "metadata": {
        "id": "hZJwgYWBSfTg"
      },
      "source": [
        "15 - Execute a leitura do Toy Dataset diretamente em um dataframe."
      ]
    },
    {
      "cell_type": "code",
      "execution_count": 21,
      "metadata": {
        "colab": {
          "base_uri": "https://localhost:8080/"
        },
        "id": "H18ZsFySSfri",
        "outputId": "854b03ef-8452-43f4-cb2f-2b675959effd"
      },
      "outputs": [
        {
          "output_type": "stream",
          "name": "stdout",
          "text": [
            "Primeiras linhas do DataFrame:\n",
            "   Number    City Gender  Age   Income Illness\n",
            "0       1  Dallas   Male   41  40367.0      No\n",
            "1       2  Dallas   Male   54  45084.0      No\n",
            "2       3  Dallas   Male   42  52483.0      No\n",
            "3       4  Dallas   Male   40  40941.0      No\n",
            "4       5  Dallas   Male   46  50289.0      No\n"
          ]
        }
      ],
      "source": [
        "df = pd.read_csv('toy_dataset.csv')\n",
        "print(\"Primeiras linhas do DataFrame:\")\n",
        "print(df.head())"
      ]
    },
    {
      "cell_type": "markdown",
      "metadata": {
        "id": "8N9Nt4oETf5x"
      },
      "source": [
        "16 - Exiba o tipo de dados de cada coluna do dataframe."
      ]
    },
    {
      "cell_type": "code",
      "execution_count": 22,
      "metadata": {
        "colab": {
          "base_uri": "https://localhost:8080/"
        },
        "id": "d2DP3VBuTf_O",
        "outputId": "34300745-e316-4b53-bd2a-6c4d7c261c4e"
      },
      "outputs": [
        {
          "output_type": "stream",
          "name": "stdout",
          "text": [
            "Tipos de dados de cada coluna:\n",
            "Number       int64\n",
            "City        object\n",
            "Gender      object\n",
            "Age          int64\n",
            "Income     float64\n",
            "Illness     object\n",
            "dtype: object\n"
          ]
        }
      ],
      "source": [
        "print(\"Tipos de dados de cada coluna:\")\n",
        "print(df.dtypes)\n"
      ]
    },
    {
      "cell_type": "markdown",
      "metadata": {
        "id": "6DSkip22TRQc"
      },
      "source": [
        "17 - Utilize a função .head() para exibir o cabeçalho do dataframe e assim conhecer as colunas, o índice e as linhas iniciais da base de dados."
      ]
    },
    {
      "cell_type": "code",
      "execution_count": 23,
      "metadata": {
        "colab": {
          "base_uri": "https://localhost:8080/"
        },
        "id": "DoD2Ud8oTRWm",
        "outputId": "271d583a-1b97-4e5c-97af-95e3fb87056a"
      },
      "outputs": [
        {
          "output_type": "stream",
          "name": "stdout",
          "text": [
            "   Number    City Gender  Age   Income Illness\n",
            "0       1  Dallas   Male   41  40367.0      No\n",
            "1       2  Dallas   Male   54  45084.0      No\n",
            "2       3  Dallas   Male   42  52483.0      No\n",
            "3       4  Dallas   Male   40  40941.0      No\n",
            "4       5  Dallas   Male   46  50289.0      No\n"
          ]
        }
      ],
      "source": [
        "print(df.head())"
      ]
    },
    {
      "cell_type": "markdown",
      "metadata": {
        "id": "8oqPwJv9g1yq"
      },
      "source": [
        "18 - Realize as seguintes operações:\n",
        "\n",
        "- Adicione uma nova coluna chamada NumberAge e que apresente a soma entre os valores da coluna Number com os valores da coluna Age.\n",
        "- Exiba o cabeçalho do dataframe resultante.\n",
        "- Remova a coluna NumberAge.\n",
        "- Exiba o cabeçalho do dataframe resultante."
      ]
    },
    {
      "cell_type": "code",
      "execution_count": 24,
      "metadata": {
        "colab": {
          "base_uri": "https://localhost:8080/"
        },
        "id": "fzA8Sd4dg12m",
        "outputId": "1ffe8683-49d9-4216-86d2-7b49535d1215"
      },
      "outputs": [
        {
          "output_type": "stream",
          "name": "stdout",
          "text": [
            "Cabeçalho do DataFrame após adicionar a coluna NumberAge:\n",
            "   Number    City Gender  Age   Income Illness  NumberAge\n",
            "0       1  Dallas   Male   41  40367.0      No         42\n",
            "1       2  Dallas   Male   54  45084.0      No         56\n",
            "2       3  Dallas   Male   42  52483.0      No         45\n",
            "3       4  Dallas   Male   40  40941.0      No         44\n",
            "4       5  Dallas   Male   46  50289.0      No         51\n",
            "\n",
            "Cabeçalho do DataFrame após remover a coluna NumberAge:\n",
            "   Number    City Gender  Age   Income Illness\n",
            "0       1  Dallas   Male   41  40367.0      No\n",
            "1       2  Dallas   Male   54  45084.0      No\n",
            "2       3  Dallas   Male   42  52483.0      No\n",
            "3       4  Dallas   Male   40  40941.0      No\n",
            "4       5  Dallas   Male   46  50289.0      No\n"
          ]
        }
      ],
      "source": [
        "df['NumberAge'] = df['Number'] + df['Age']\n",
        "print(\"Cabeçalho do DataFrame após adicionar a coluna NumberAge:\")\n",
        "print(df.head())\n",
        "df = df.drop(columns=['NumberAge'])\n",
        "print(\"\\nCabeçalho do DataFrame após remover a coluna NumberAge:\")\n",
        "print(df.head())"
      ]
    },
    {
      "cell_type": "markdown",
      "metadata": {
        "id": "qI5Keo5qYCZw"
      },
      "source": [
        "19 - Realize as seguintes operações a partir do dataframe definido anteriormente:\n",
        "\n",
        "- Exiba as cinco primeiras linhas do dataframe, todos os atributos devem ser apresentados com exceção do primeiro e último.\n",
        "\n",
        "- Exiba as cinco últimas linhas do dataframe, exiba somente o atributo City."
      ]
    },
    {
      "cell_type": "code",
      "execution_count": 25,
      "metadata": {
        "colab": {
          "base_uri": "https://localhost:8080/"
        },
        "id": "h-p0mDxGYCfz",
        "outputId": "76902a39-14fe-48dd-fafc-30399059cccc"
      },
      "outputs": [
        {
          "output_type": "stream",
          "name": "stdout",
          "text": [
            "Cinco primeiras linhas do dataframe sem o primeiro e último atributo:\n",
            "     City Gender  Age   Income\n",
            "0  Dallas   Male   41  40367.0\n",
            "1  Dallas   Male   54  45084.0\n",
            "2  Dallas   Male   42  52483.0\n",
            "3  Dallas   Male   40  40941.0\n",
            "4  Dallas   Male   46  50289.0\n",
            "\n",
            "Cinco últimas linhas do dataframe mostrando somente o atributo City:\n",
            "149995    Austin\n",
            "149996    Austin\n",
            "149997    Austin\n",
            "149998    Austin\n",
            "149999    Austin\n",
            "Name: City, dtype: object\n"
          ]
        }
      ],
      "source": [
        "print(\"Cinco primeiras linhas do dataframe sem o primeiro e último atributo:\")\n",
        "print(df.iloc[:5, 1:-1])\n",
        "print(\"\\nCinco últimas linhas do dataframe mostrando somente o atributo City:\")\n",
        "print(df['City'].tail())\n"
      ]
    },
    {
      "cell_type": "markdown",
      "metadata": {
        "id": "ABvg8q8_-vHl"
      },
      "source": [
        "20 - Ordene de forma ascendente as amostras utilizando como critério o salário anual. Em seguida, resete os índices dos registros."
      ]
    },
    {
      "cell_type": "code",
      "execution_count": 28,
      "metadata": {
        "colab": {
          "base_uri": "https://localhost:8080/"
        },
        "id": "L37Nscj--vRi",
        "outputId": "504d4157-e062-4f16-f465-0f4180dcfeb4"
      },
      "outputs": [
        {
          "output_type": "stream",
          "name": "stdout",
          "text": [
            "Colunas disponíveis no DataFrame:\n",
            "Index(['Number', 'City', 'Gender', 'Age', 'Income', 'Illness'], dtype='object')\n"
          ]
        }
      ],
      "source": [
        "print(\"Colunas disponíveis no DataFrame:\")\n",
        "print(df.columns)"
      ]
    },
    {
      "cell_type": "markdown",
      "metadata": {
        "id": "djZG9RbF-83m"
      },
      "source": [
        "**21 - Defina a coluna 'Number' como o índice do dataframe. Em seguida, exiba do segundo até o quinto registro a partir do posicionamento.**"
      ]
    },
    {
      "cell_type": "code",
      "execution_count": 29,
      "metadata": {
        "colab": {
          "base_uri": "https://localhost:8080/"
        },
        "id": "542ZgC-i-89B",
        "outputId": "431cb4e5-3cab-4c62-875f-83bb7a451ab3"
      },
      "outputs": [
        {
          "output_type": "stream",
          "name": "stdout",
          "text": [
            "Registros do segundo ao quinto a partir do posicionamento:\n",
            "          City Gender  Age   Income Illness\n",
            "Number                                     \n",
            "2       Dallas   Male   54  45084.0      No\n",
            "3       Dallas   Male   42  52483.0      No\n",
            "4       Dallas   Male   40  40941.0      No\n",
            "5       Dallas   Male   46  50289.0      No\n"
          ]
        }
      ],
      "source": [
        "df.set_index('Number', inplace=True)\n",
        "print(\"Registros do segundo ao quinto a partir do posicionamento:\")\n",
        "print(df.iloc[1:5])"
      ]
    },
    {
      "cell_type": "markdown",
      "metadata": {
        "id": "kY8O4jyXiup0"
      },
      "source": [
        "22 - Desta vez, exiba os registros com Number variando de 2 até 5 a partir do próprio rótulo Number."
      ]
    },
    {
      "cell_type": "code",
      "execution_count": 30,
      "metadata": {
        "colab": {
          "base_uri": "https://localhost:8080/"
        },
        "id": "PyivKqYeiuii",
        "outputId": "a8c05935-6df4-404a-c477-45f558cb25ea"
      },
      "outputs": [
        {
          "output_type": "stream",
          "name": "stdout",
          "text": [
            "Registros onde o índice 'Number' varia de 2 até 5:\n",
            "          City Gender  Age   Income Illness\n",
            "Number                                     \n",
            "2       Dallas   Male   54  45084.0      No\n",
            "3       Dallas   Male   42  52483.0      No\n",
            "4       Dallas   Male   40  40941.0      No\n",
            "5       Dallas   Male   46  50289.0      No\n"
          ]
        }
      ],
      "source": [
        "print(\"Registros onde o índice 'Number' varia de 2 até 5:\")\n",
        "print(df.loc[2:5])"
      ]
    },
    {
      "cell_type": "markdown",
      "metadata": {
        "id": "_85K8jGwILdr"
      },
      "source": [
        "23 - Qual a cidade e o gênero da pessoa com a maior renda (Income)?"
      ]
    },
    {
      "cell_type": "code",
      "execution_count": 32,
      "metadata": {
        "colab": {
          "base_uri": "https://localhost:8080/"
        },
        "id": "V0Zk-WpiILlg",
        "outputId": "0930ecb3-e6ee-4817-b435-499451876931"
      },
      "outputs": [
        {
          "output_type": "stream",
          "name": "stdout",
          "text": [
            "A pessoa com a maior renda tem gênero 'Male' e mora na cidade de 'Mountain View'.\n"
          ]
        }
      ],
      "source": [
        "max_income_row = df.loc[df['Income'].idxmax()]\n",
        "cidade = max_income_row['City']\n",
        "genero = max_income_row['Gender']\n",
        "print(f\"A pessoa com a maior renda tem gênero '{genero}' e mora na cidade de '{cidade}'.\")"
      ]
    },
    {
      "cell_type": "markdown",
      "metadata": {
        "id": "JQLxC3FZYClW"
      },
      "source": [
        "24 - Quantas pessoas moram na cidade de Dallas?"
      ]
    },
    {
      "cell_type": "code",
      "execution_count": 33,
      "metadata": {
        "colab": {
          "base_uri": "https://localhost:8080/"
        },
        "id": "L0XPIO7-YCqh",
        "outputId": "364ce42c-4e3c-49a1-91ba-1adf102a16f6"
      },
      "outputs": [
        {
          "output_type": "stream",
          "name": "stdout",
          "text": [
            "O número de pessoas que moram na cidade de Dallas é: 19707\n"
          ]
        }
      ],
      "source": [
        "count_dallas = df[df['City'] == 'Dallas'].shape[0]\n",
        "print(f\"O número de pessoas que moram na cidade de Dallas é: {count_dallas}\")"
      ]
    },
    {
      "cell_type": "markdown",
      "metadata": {
        "id": "Yk1cNzuaYCwe"
      },
      "source": [
        "25 - Qual a idade média das pessoas que estão doentes? Utilize o atributo Illness para obter essa informação."
      ]
    },
    {
      "cell_type": "code",
      "execution_count": 35,
      "metadata": {
        "colab": {
          "base_uri": "https://localhost:8080/"
        },
        "id": "ITImJ5jkYC1K",
        "outputId": "20f6e2ab-7bca-4108-a0f7-a221955b4c54"
      },
      "outputs": [
        {
          "output_type": "stream",
          "name": "stdout",
          "text": [
            "A idade média das pessoas que estão doentes é: 45.02 anos\n"
          ]
        }
      ],
      "source": [
        "doentes = df[df['Illness'] == 'Yes']\n",
        "idade_media_doentes = doentes['Age'].mean()\n",
        "print(f\"A idade média das pessoas que estão doentes é: {idade_media_doentes:.2f} anos\")"
      ]
    },
    {
      "cell_type": "markdown",
      "metadata": {
        "id": "lic0gp9Pf4WP"
      },
      "source": [
        "26 - Quantas pessoas tem um salário anual maior que R$ 30000?"
      ]
    },
    {
      "cell_type": "code",
      "execution_count": 36,
      "metadata": {
        "colab": {
          "base_uri": "https://localhost:8080/"
        },
        "id": "TLG5DAxAf4c8",
        "outputId": "9b259458-3041-4023-872d-4a1728ad36ac"
      },
      "outputs": [
        {
          "output_type": "stream",
          "name": "stdout",
          "text": [
            "O número de pessoas com salário anual maior que R$ 30000.00 é: 148218\n"
          ]
        }
      ],
      "source": [
        "salario_referencia = 30000\n",
        "count_salario_maior_30000 = df[df['Income'] > salario_referencia].shape[0]\n",
        "print(f\"O número de pessoas com salário anual maior que R$ {salario_referencia:.2f} é: {count_salario_maior_30000}\")"
      ]
    },
    {
      "cell_type": "markdown",
      "metadata": {
        "id": "xYirQSRegB3r"
      },
      "source": [
        "27 - Quantas pessoas estão doentes?"
      ]
    },
    {
      "cell_type": "code",
      "execution_count": 37,
      "metadata": {
        "colab": {
          "base_uri": "https://localhost:8080/"
        },
        "id": "yD9reWNbgB88",
        "outputId": "f3e16a59-0e72-41d9-b8d7-074c3ba388e9"
      },
      "outputs": [
        {
          "output_type": "stream",
          "name": "stdout",
          "text": [
            "O número de pessoas que estão doentes é: 12139\n"
          ]
        }
      ],
      "source": [
        "count_pessoas_doentes = df[df['Illness'] == 'Yes'].shape[0]\n",
        "print(f\"O número de pessoas que estão doentes é: {count_pessoas_doentes}\")"
      ]
    },
    {
      "cell_type": "markdown",
      "metadata": {
        "id": "swh6nAWH6pAa"
      },
      "source": [
        "28 - Quantas pessoas estão doente e apresentam renda (Income) menor que 35000 ou maior que 50000?"
      ]
    },
    {
      "cell_type": "code",
      "execution_count": 38,
      "metadata": {
        "colab": {
          "base_uri": "https://localhost:8080/"
        },
        "id": "3dqh-jVH6pL6",
        "outputId": "6435a9f0-ea8c-44de-f929-58bff563668d"
      },
      "outputs": [
        {
          "output_type": "stream",
          "name": "stdout",
          "text": [
            "O número de pessoas que estão doentes e têm renda menor que R$ 35000.00 ou maior que R$ 50000.00 é: 11386\n"
          ]
        }
      ],
      "source": [
        "renda_minima = 35000\n",
        "renda_maxima = 50000\n",
        "count_pessoas_doentes_renda = df[(df['Illness'] == 'Yes') & ((df['Income'] < renda_minima) | (df['Income'] > renda_maxima))].shape[0]\n",
        "print(f\"O número de pessoas que estão doentes e têm renda menor que R$ {renda_minima:.2f} ou maior que R$ {renda_maxima:.2f} é: {count_pessoas_doentes_renda}\")"
      ]
    },
    {
      "cell_type": "markdown",
      "metadata": {
        "id": "gIOB9N0tgNw1"
      },
      "source": [
        "29 - Mostre os registros que apresentam a menor idade encontrada e uma renda entre 40000 e 42000."
      ]
    },
    {
      "cell_type": "code",
      "execution_count": 39,
      "metadata": {
        "colab": {
          "base_uri": "https://localhost:8080/"
        },
        "id": "nQ62IHiggPql",
        "outputId": "d9322bbd-0b2a-495b-82a0-2164860ad6b9"
      },
      "outputs": [
        {
          "output_type": "stream",
          "name": "stdout",
          "text": [
            "Registros com a menor idade encontrada e renda entre R$ 40.000 e R$ 42.000:\n",
            "                   City  Gender  Age   Income Illness\n",
            "Number                                               \n",
            "2092             Dallas    Male   25  41013.0      No\n",
            "2682             Dallas  Female   25  40075.0      No\n",
            "2709             Dallas  Female   25  40899.0      No\n",
            "5280             Dallas  Female   25  41365.0      No\n",
            "5640             Dallas    Male   25  40313.0      No\n",
            "6964             Dallas    Male   25  41654.0      No\n",
            "7675             Dallas  Female   25  41288.0      No\n",
            "7931             Dallas    Male   25  41630.0      No\n",
            "8653             Dallas  Female   25  41561.0      No\n",
            "8765             Dallas  Female   25  41975.0      No\n",
            "9776             Dallas  Female   25  41612.0      No\n",
            "9956             Dallas  Female   25  41444.0      No\n",
            "10181            Dallas  Female   25  40761.0      No\n",
            "10740            Dallas    Male   25  40467.0      No\n",
            "13564            Dallas  Female   25  40076.0      No\n",
            "14607            Dallas  Female   25  40363.0      No\n",
            "16403            Dallas  Female   25  40389.0      No\n",
            "18191            Dallas  Female   25  40795.0      No\n",
            "18503            Dallas    Male   25  41241.0      No\n",
            "128932  Washington D.C.  Female   25  40476.0      No\n"
          ]
        }
      ],
      "source": [
        "menor_idade = df['Age'].min()\n",
        "renda_minima = 40000\n",
        "renda_maxima = 42000\n",
        "registros_filtrados = df[(df['Age'] == menor_idade) & (df['Income'] >= renda_minima) & (df['Income'] <= renda_maxima)]\n",
        "print(\"Registros com a menor idade encontrada e renda entre R$ 40.000 e R$ 42.000:\")\n",
        "print(registros_filtrados)"
      ]
    },
    {
      "cell_type": "markdown",
      "metadata": {
        "id": "wI7SidOsrZ_x"
      },
      "source": [
        "30 - Mostre os registros referentes a cidade de Dallas que apresentam a maior idade e que estão doentes."
      ]
    },
    {
      "cell_type": "code",
      "execution_count": 40,
      "metadata": {
        "colab": {
          "base_uri": "https://localhost:8080/"
        },
        "id": "Mom0InHirZ2m",
        "outputId": "f50d809e-6889-4c98-89e7-c8c5744ae6ed"
      },
      "outputs": [
        {
          "output_type": "stream",
          "name": "stdout",
          "text": [
            "Registros referentes à cidade de Dallas que apresentam a maior idade e estão doentes:\n",
            "          City  Gender  Age   Income Illness\n",
            "Number                                      \n",
            "1564    Dallas  Female   65  38193.0     Yes\n",
            "2379    Dallas    Male   65  67526.0     Yes\n",
            "3318    Dallas    Male   65  48022.0     Yes\n",
            "3924    Dallas    Male   65  59748.0     Yes\n",
            "4359    Dallas  Female   65  34712.0     Yes\n",
            "6074    Dallas  Female   65  45253.0     Yes\n",
            "7284    Dallas    Male   65  54156.0     Yes\n",
            "7587    Dallas    Male   65  45705.0     Yes\n",
            "10518   Dallas    Male   65  32516.0     Yes\n",
            "11236   Dallas  Female   65  48395.0     Yes\n",
            "13877   Dallas    Male   65  42107.0     Yes\n",
            "14437   Dallas  Female   65  20732.0     Yes\n",
            "14711   Dallas  Female   65  34991.0     Yes\n",
            "15663   Dallas  Female   65  35688.0     Yes\n",
            "15866   Dallas    Male   65  36590.0     Yes\n",
            "16224   Dallas  Female   65  56795.0     Yes\n",
            "16487   Dallas    Male   65  56236.0     Yes\n",
            "17728   Dallas  Female   65  30468.0     Yes\n",
            "17788   Dallas    Male   65  40675.0     Yes\n",
            "18498   Dallas  Female   65  56754.0     Yes\n"
          ]
        }
      ],
      "source": [
        "dallas_doentes = df[(df['City'] == 'Dallas') & (df['Illness'] == 'Yes')]\n",
        "maior_idade_dallas_doentes = dallas_doentes['Age'].max()\n",
        "registros_filtrados = dallas_doentes[dallas_doentes['Age'] == maior_idade_dallas_doentes]\n",
        "print(\"Registros referentes à cidade de Dallas que apresentam a maior idade e estão doentes:\")\n",
        "print(registros_filtrados)"
      ]
    }
  ],
  "metadata": {
    "colab": {
      "provenance": [],
      "include_colab_link": true
    },
    "kernelspec": {
      "display_name": "Python 3",
      "language": "python",
      "name": "python3"
    },
    "language_info": {
      "codemirror_mode": {
        "name": "ipython",
        "version": 3
      },
      "file_extension": ".py",
      "mimetype": "text/x-python",
      "name": "python",
      "nbconvert_exporter": "python",
      "pygments_lexer": "ipython3",
      "version": "3.6.4"
    }
  },
  "nbformat": 4,
  "nbformat_minor": 0
}